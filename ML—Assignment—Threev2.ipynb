{
 "cells": [
  {
   "cell_type": "code",
   "execution_count": 1,
   "metadata": {},
   "outputs": [],
   "source": [
    "import numpy as np\n",
    "import pandas as pd\n",
    "import matplotlib.pyplot as plt\n",
    "%matplotlib inline"
   ]
  },
  {
   "cell_type": "code",
   "execution_count": 2,
   "metadata": {},
   "outputs": [],
   "source": [
    "raw_data = pd.read_json('food_enforcement_US_bacteria.json', orient='records')"
   ]
  },
  {
   "cell_type": "code",
   "execution_count": 3,
   "metadata": {},
   "outputs": [
    {
     "name": "stdout",
     "output_type": "stream",
     "text": [
      "(6104, 26)\n",
      "0    Native Catch Salmon Bacon, Traditional flavor....\n",
      "1    Delish Fruit Burst 10 oz.(283 g)  Enjoy by: 8/...\n",
      "2    Garden Pure Holiday Fruit Bowl 4 lbs (1.81kg) ...\n",
      "3    Fresh Fruit Product is labeled in part:  \"***F...\n",
      "4    Ready Pac¿ Gourmet Fruit Bowl, 64oz , UPC 7774...\n",
      "5    River Ranch brand Diced Grn Cabbage w/Color, 4...\n",
      "6    Sweet and Sour Stir Fry packaged under the fol...\n",
      "7    Onion Slab Cut.  Products are labeled in part:...\n",
      "8    MIX w/yellow onions used as an ingredient.  Pr...\n",
      "9    Fresh n Easy brand Shred Grn Cabbage w/Color, ...\n",
      "Name: product_description, dtype: object\n"
     ]
    }
   ],
   "source": [
    "print(raw_data.shape)\n",
    "print(raw_data.head(10).product_description)"
   ]
  },
  {
   "cell_type": "markdown",
   "metadata": {},
   "source": [
    "### Bag of words feature representation for descriptive text"
   ]
  },
  {
   "cell_type": "code",
   "execution_count": 4,
   "metadata": {},
   "outputs": [
    {
     "data": {
      "text/plain": "(6104, 13767)"
     },
     "execution_count": 4,
     "metadata": {},
     "output_type": "execute_result"
    }
   ],
   "source": [
    "from sklearn.feature_extraction.text import CountVectorizer\n",
    "vectorizer = CountVectorizer()\n",
    "\n",
    "corpus = raw_data['product_description']\n",
    "X = vectorizer.fit_transform(corpus)\n",
    "X.shape"
   ]
  },
  {
   "cell_type": "code",
   "execution_count": 4,
   "outputs": [],
   "source": [],
   "metadata": {
    "collapsed": false
   }
  },
  {
   "cell_type": "markdown",
   "metadata": {},
   "source": [
    "### fit Kmeans"
   ]
  },
  {
   "cell_type": "code",
   "execution_count": 5,
   "metadata": {},
   "outputs": [],
   "source": [
    "#fit Kmeans with k clusters\n",
    "from sklearn.cluster import KMeans\n",
    "km = KMeans(n_clusters=40,n_init=30)\n",
    "km.fit(X)\n",
    "\n",
    "\n",
    "# first attempt at fitting K means to view change in Inertia\n",
    "\n",
    "# container to store inertia scores over iterations\n",
    "distortions = []\n",
    "\n",
    "# fit KMeans iteratively to begin to assess the appropriate number of clusters\n",
    "# for i in range(1, 101):\n",
    "#     km = KMeans(n_clusters=i)\n",
    "#     km.fit(X)\n",
    "#     distortions.append(km.inertia_)\n",
    "#\n",
    "# # vizualize change in inertia\n",
    "# plt.plot(range(1, 101), distortions, marker='o')\n",
    "# plt.xlabel('Number of clusters')\n",
    "# plt.ylabel('Inertia')\n",
    "# plt.show()"
   ]
  },
  {
   "cell_type": "markdown",
   "metadata": {},
   "source": [
    "### labels are named with integers and stored in the `labels_` attribute"
   ]
  },
  {
   "cell_type": "code",
   "execution_count": 6,
   "metadata": {},
   "outputs": [
    {
     "data": {
      "text/plain": "array([27, 23,  8, ...,  8, 37, 23], dtype=int32)"
     },
     "execution_count": 6,
     "metadata": {},
     "output_type": "execute_result"
    }
   ],
   "source": [
    "km.labels_"
   ]
  },
  {
   "cell_type": "markdown",
   "metadata": {},
   "source": [
    "### take a look at one of the cluster results"
   ]
  },
  {
   "cell_type": "code",
   "execution_count": 7,
   "metadata": {},
   "outputs": [
    {
     "name": "stdout",
     "output_type": "stream",
     "text": [
      "Smoked Salmon packed under Springfield Smoked Fish and Rachael's:   - Rachael s SPRINGFIELD SMOKED FISH HAND CUT STYLE SMOKED NOVA SALMON, 4 oz. UPC: 045049113342;   -  Rachael s SPRINGFIELD SMOKED FISH SMOKED SLICED NOVA SALMON, 4 oz., UPC: 045049113250; Rachael s SPRINGFIELD SMOKED FISH SMOKED SLICED NOVA SALMON 8 oz., UPC: 045049113083; Rachael s SPRINGFIELD SMOKED FISH SMOKED SLICED NOVA SALMON, 8 oz., UPC: 045049113274;   -  Rachael s SPRINGFIELD SMOKED FISH HAND CUT NOVA SALMON ATLANTIC SALMON 4 oz., UPC: 045049113359; Rachael s SPRINGFIELD SMOKED FISH HAND CUT STYLE SMOKED NOVA SALMON ATLANTIC SALMON 8 oz., UPC: 045049113304;  - Rachael s SPRINGFIELD SMOKED FISH SMOKED SLICED NOVA SALMON 1 lb., UPC: 811907018018 and SPRINGFIELD SMOKED FISH PRE-SLICED SMOKED SALMON, 1 lb., UPC: 811907018018; SPRINGFIELD SMOKED SLICED NOVA SALMON, 3 lbs., UPC: 045049150613; SPRINGFIELD SMOKED FISH HAND CUT SMOKED SLICED NOVA SALMON, 3 lb., UPC: 045049111065;   - SPRINGFIELD SMOKED FISH PRE-SLICED SMOKED SALMON, catch weight, UPC: N/A;   \" springfield smoked fish whole unsliced nova side, catch weight, UPC: N/A;   - SPRINGFIELD SMOKED FISH nova salmon chips, 5 lb.; SPRINGFIELD SMOKED FISH SLICED SMOKED NOVA CHIPS, 1 lb., UPC: 045049113212  and 5 lb., UPC: N/A; Rachael s SPRINGFIELD SMOKED FISH SMOKED NOVA SALMON BITS, 8 oz., UPC: 045049112079  - SPRINGFIELD SMOKED FISH SMOKED SALMON WINGS AND BELLIES, NET WT. 5 lb., UPC: 045049111256  - SPRINGFIELD SMOKED FISH SPREADABLE SMOKED NOVA SALMON, 8 oz., UPC: 045049113236; 1.25 lb. UPC: 045049112413; 5 lb. UPC: 045049112406  - SLICED SMOKED NOVA SALMON BAGEL CUTS, 1 lb., UPC: 045049112086  \n",
      "**********\n"
     ]
    }
   ],
   "source": [
    "# You should look at all the clusters, but let's look at cluster \"15\" (I chose this arbitrarily; you should look at all of them)\n",
    "\n",
    "for i in range(0,len(km.labels_)):\n",
    "    if km.labels_[i] == 25:\n",
    "        print(raw_data['product_description'][i])\n",
    "        print('**********')"
   ]
  },
  {
   "cell_type": "code",
   "execution_count": 7,
   "metadata": {},
   "outputs": [],
   "source": []
  }
 ],
 "metadata": {
  "kernelspec": {
   "display_name": "Python 3",
   "language": "python",
   "name": "python3"
  },
  "language_info": {
   "codemirror_mode": {
    "name": "ipython",
    "version": 3
   },
   "file_extension": ".py",
   "mimetype": "text/x-python",
   "name": "python",
   "nbconvert_exporter": "python",
   "pygments_lexer": "ipython3",
   "version": "3.7.1"
  }
 },
 "nbformat": 4,
 "nbformat_minor": 2
}
